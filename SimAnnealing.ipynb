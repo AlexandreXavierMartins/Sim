{
  "nbformat": 4,
  "nbformat_minor": 0,
  "metadata": {
    "colab": {
      "provenance": [],
      "authorship_tag": "ABX9TyPrXRkBu1OJdvYfKvmxMj/H",
      "include_colab_link": true
    },
    "kernelspec": {
      "name": "python3",
      "display_name": "Python 3"
    },
    "language_info": {
      "name": "python"
    }
  },
  "cells": [
    {
      "cell_type": "markdown",
      "metadata": {
        "id": "view-in-github",
        "colab_type": "text"
      },
      "source": [
        "<a href=\"https://colab.research.google.com/github/AlexandreXavierMartins/Sim/blob/main/SimAnnealing.ipynb\" target=\"_parent\"><img src=\"https://colab.research.google.com/assets/colab-badge.svg\" alt=\"Open In Colab\"/></a>"
      ]
    },
    {
      "cell_type": "code",
      "source": [
        "import math\n",
        "import matplotlib.pyplot as plt\n",
        "x = []\n",
        "y = []\n",
        "x.append(0.0001)\n",
        "y.append(math.exp(-1/0.0001))\n",
        "for i in range(1, 50):\n",
        "  x.append(i)\n",
        "  y.append(math.exp(-1/i))\n",
        "\n",
        "plt.plot(x, y)\n",
        "plt.title(\"Probabilidade X Temperatura\")\n",
        "plt.xlabel(\"Temperatura\")\n",
        "plt.ylabel(\"Probabilidade\", fontweight='bold')\n",
        "plt.yticks(fontweight='bold')\n",
        "plt.show()"
      ],
      "metadata": {
        "colab": {
          "base_uri": "https://localhost:8080/",
          "height": 295
        },
        "id": "e75uhlLlsQBJ",
        "outputId": "aae22682-c593-48fb-a819-a71119df8f9e"
      },
      "execution_count": 6,
      "outputs": [
        {
          "output_type": "display_data",
          "data": {
            "text/plain": [
              "<Figure size 432x288 with 1 Axes>"
            ],
            "image/png": "[encoded data removed]"
          },
          "metadata": {
            "needs_background": "light"
          }
        }
      ]
    },
    {
      "cell_type": "code",
      "source": [
        "import random\n",
        "import math\n",
        "import time\n",
        "import matplotlib.pyplot as plt\n",
        "\n",
        "def f(x):\n",
        "  #return x**2 - math.cos(4*math.pi*x)\n",
        "  return math.cos(x) + math.cos(math.sqrt(2*x)) +math.cos(math.sqrt(3*x))\n",
        "\n",
        "inicio = time.time()\n",
        "random.seed(100)\n",
        "Lsup = 50\n",
        "Linf = 0\n",
        "r = random.random()\n",
        "x = Lsup*r + Linf*(1-r) \n",
        "print(x)\n",
        "\n",
        "T = 100\n",
        "SAmax = 10000\n",
        "alpha = 0.98\n",
        "Tf = 0.0001\n",
        "\n",
        "x_star = x\n",
        "f_star = f(x)\n",
        "print('Solução inicial x =', x_star, 'com f(x) =', f_star)\n",
        "iter = 0\n",
        "eixox = []\n",
        "eixoy = []\n",
        "while T > Tf:\n",
        "  while iter < SAmax:\n",
        "    iter = iter+1\n",
        "    nx = x + random.gauss(0, 1)\n",
        "    if nx < Linf:\n",
        "      nx = Linf\n",
        "    if nx > Lsup:\n",
        "      nx = Lsup\n",
        "    Delta = f(nx) - f(x)\n",
        "    if Delta < 0:\n",
        "      x = nx\n",
        "      fim = time.time()\n",
        "      #print()\n",
        "      eixox.append(fim - inicio)\n",
        "      eixoy.append(x)\n",
        "      if f(x) < f_star:\n",
        "        f_star = f(x)\n",
        "        x_star = x\n",
        "        \n",
        "    else:\n",
        "      r = random.random()\n",
        "      if r < math.exp(-Delta/T):\n",
        "        x = nx\n",
        "  iter = 0\n",
        "  T = T*alpha\n",
        "print(f'Solução final x = {x_star: .2f}')\n",
        "print(f'Função objetivo = {f_star: .2f}')\n",
        "plt.plot(eixox, eixoy)\n",
        "plt.show()\n"
      ],
      "metadata": {
        "colab": {
          "base_uri": "https://localhost:8080/",
          "height": 354
        },
        "id": "9uvCW_ZJwg4d",
        "outputId": "fa74c74e-3f46-4867-8975-ec8d3f352e23"
      },
      "execution_count": 50,
      "outputs": [
        {
          "output_type": "stream",
          "name": "stdout",
          "text": [
            "7.283462755206516\n",
            "Solução inicial x = 7.283462755206516 com f(x) = -0.2785334124822184\n",
            "Solução final x =  3.34\n",
            "Função objetivo = -2.83\n"
          ]
        },
        {
          "output_type": "display_data",
          "data": {
            "text/plain": [
              "<Figure size 432x288 with 1 Axes>"
            ],
            "image/png": "[encoded data removed]"
          },
          "metadata": {
            "needs_background": "light"
          }
        },
        {
          "output_type": "stream",
          "name": "stdout",
          "text": [
            "0.6516131142687303\n"
          ]
        }
      ]
    }
  ]
}