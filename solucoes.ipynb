{
  "nbformat": 4,
  "nbformat_minor": 0,
  "metadata": {
    "colab": {
      "name": "solucoes.ipynb",
      "provenance": [],
      "authorship_tag": "ABX9TyMRJpWl9cyJ0/xgyox9MjGM",
      "include_colab_link": true
    },
    "kernelspec": {
      "name": "python3",
      "display_name": "Python 3"
    },
    "language_info": {
      "name": "python"
    }
  },
  "cells": [
    {
      "cell_type": "markdown",
      "metadata": {
        "id": "view-in-github",
        "colab_type": "text"
      },
      "source": [
        "<a href=\"https://colab.research.google.com/github/AlexandreXavierMartins/Sim/blob/main/solucoes.ipynb\" target=\"_parent\"><img src=\"https://colab.research.google.com/assets/colab-badge.svg\" alt=\"Open In Colab\"/></a>"
      ]
    },
    {
      "cell_type": "markdown",
      "source": [
        "Suponha que uma variável seja representada pela seguinte fórmula: $W = 5x + 2y + z$. Calcule o valor médio de W\n",
        "\n"
      ],
      "metadata": {
        "id": "JgniLm8EGCCU"
      }
    },
    {
      "cell_type": "code",
      "execution_count": null,
      "metadata": {
        "id": "W8v9bqhpF_cN"
      },
      "outputs": [],
      "source": [
        "import random\n",
        "\n",
        "#Etiquetas para x, y e z\n",
        "etx = [9, 29, 54, 79, 94, 99]\n",
        "ety = [24, 54, 79, 99]\n",
        "etz = [2, 7, 9]\n",
        "#Possíveis valores de x, y e z\n",
        "valx = [0, 1, 2, 3, 4, 5]\n",
        "valy = [2, 3, 4, 5]\n",
        "valz = [4, 5, 6]\n",
        "n = 1000000 # Número de simulações\n",
        "w = 0\n",
        "for i in range(n):\n",
        "  num = random.randint(0, 99)\n",
        "  for j in range(len(etx)):\n",
        "    if num <= etx[j]:\n",
        "      x = valx[j]\n",
        "      break\n",
        "  num = random.randint(0, 99)\n",
        "  for j in range(len(ety)):\n",
        "    if num <= ety[j]:\n",
        "      y = valy[j]\n",
        "      break  \n",
        "  num = random.randint(0, 9)\n",
        "  for j in range(len(etz)):\n",
        "    if num <= etz[j]:\n",
        "      z = valz[j]\n",
        "      break\n",
        "  w = w + 5*x + 2*y + z\n",
        "\n",
        "w = w/n\n",
        "print('O valor médio de W é', w)\n",
        "  "
      ]
    },
    {
      "cell_type": "markdown",
      "source": [
        "Dado que o invervalo entre defeitos em bobinas  ́e de 0.2m2 e que este intervalo segue uma distribuição exponencial. Sabendo que para gerar numeros aleatórios de acordo com a distribuição exponencial podemos seguir a seguinte fórmula:\n",
        "x = −β × log(1 − R).\n",
        "Calcule por simulação a probabilidade de encontrarmos um defeito numa  ́area de \n",
        "0.5 m2."
      ],
      "metadata": {
        "id": "Bq1B-WCIJcp1"
      }
    },
    {
      "cell_type": "code",
      "source": [
        "import math\n",
        "\n",
        "s = 0\n",
        "n = 1000000 #Número de simulações\n",
        "\n",
        "for i in range(n):\n",
        "  r = random.random()\n",
        "  x = -0.2*math.log(1-r)\n",
        "  if x <= 0.5:\n",
        "    s = s+1\n",
        "\n",
        "print('A probabilidade de defeito é de', s/n)"
      ],
      "metadata": {
        "id": "ylDm0hj-JzHx"
      },
      "execution_count": null,
      "outputs": []
    },
    {
      "cell_type": "markdown",
      "source": [
        "Calcular a integral de (1 - x^2)^1/2 no intervalo entre 0 e 1"
      ],
      "metadata": {
        "id": "HAwmBTNpK0q6"
      }
    },
    {
      "cell_type": "code",
      "source": [
        "n = 10000000 #Número de simulações\n",
        "p = 0\n",
        "for i in range(n):\n",
        "  x = random.random()\n",
        "  fx = math.sqrt(1 - x**2)\n",
        "  y = random.random()\n",
        "  if y <= fx:\n",
        "    p = p +1\n",
        "\n",
        "print('O valor da integral é', p/n)\n"
      ],
      "metadata": {
        "id": "rLndl1fwLAV0"
      },
      "execution_count": null,
      "outputs": []
    },
    {
      "cell_type": "markdown",
      "source": [
        " Uma banca de jornal tem uma demanda por jornais que segue uma distribuição uniforme variando de 50 até 150 jornais por dia. O jornaleiro compra cada jornal por 1 real e vende cada um por 2 reais. Os jornais não vendidos são perdidos. Suponha que não exista custo associado à perda de imagem. Ajude o jornaleiro a determinar o número de jornais pedidos para que o seu lucro médio diário seja o maior possível."
      ],
      "metadata": {
        "id": "z7vf6CoiMjRp"
      }
    },
    {
      "cell_type": "code",
      "source": [
        "import matplotlib.pyplot as plt\n",
        "n = 100000\n",
        "x = []\n",
        "y = []\n",
        "for pedido in range(50, 151):\n",
        "  lucro = 0\n",
        "  for i in range(n):\n",
        "    demanda = random.randint(50, 150)\n",
        "    if pedido <= demanda:\n",
        "      lucro = lucro -1*pedido +2*pedido\n",
        "    else:\n",
        "      lucro = lucro -1*pedido +2*demanda\n",
        "  #print('Lucro médio para pedidos de', pedido, 'jornais é', lucro/n)\n",
        "  x.append(pedido)\n",
        "  y.append(lucro/n)\n",
        "plt.plot(x, y)\n",
        "plt.show()"
      ],
      "metadata": {
        "colab": {
          "base_uri": "https://localhost:8080/",
          "height": 265
        },
        "id": "fKCZboyVMsat",
        "outputId": "a0fcf479-34d1-4b11-e967-c4e49a91a8b8"
      },
      "execution_count": 29,
      "outputs": [
        {
          "output_type": "display_data",
          "data": {
            "text/plain": [
              "<Figure size 432x288 with 1 Axes>"
            ],
            "image/png": "[encoded data removed]"
          },
          "metadata": {
            "needs_background": "light"
          }
        }
      ]
    }
  ]
}