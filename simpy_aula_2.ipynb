{
  "nbformat": 4,
  "nbformat_minor": 0,
  "metadata": {
    "colab": {
      "provenance": [],
      "authorship_tag": "ABX9TyOOmF5CUiK6Abh83TjCj9xG",
      "include_colab_link": true
    },
    "kernelspec": {
      "name": "python3",
      "display_name": "Python 3"
    },
    "language_info": {
      "name": "python"
    }
  },
  "cells": [
    {
      "cell_type": "markdown",
      "metadata": {
        "id": "view-in-github",
        "colab_type": "text"
      },
      "source": [
        "<a href=\"https://colab.research.google.com/github/AlexandreXavierMartins/Sim/blob/main/simpy_aula_2.ipynb\" target=\"_parent\"><img src=\"https://colab.research.google.com/assets/colab-badge.svg\" alt=\"Open In Colab\"/></a>"
      ]
    },
    {
      "cell_type": "code",
      "source": [
        "!pip install simpy"
      ],
      "metadata": {
        "colab": {
          "base_uri": "https://localhost:8080/"
        },
        "id": "NI_s7RK7XVTD",
        "outputId": "ea108bb9-f43f-4023-b372-47997ea24f09"
      },
      "execution_count": null,
      "outputs": [
        {
          "output_type": "stream",
          "name": "stdout",
          "text": [
            "Collecting simpy\n",
            "  Downloading simpy-4.1.1-py3-none-any.whl.metadata (6.1 kB)\n",
            "Downloading simpy-4.1.1-py3-none-any.whl (27 kB)\n",
            "Installing collected packages: simpy\n",
            "Successfully installed simpy-4.1.1\n"
          ]
        }
      ]
    },
    {
      "cell_type": "markdown",
      "source": [
        "Sistema Aberto"
      ],
      "metadata": {
        "id": "IU1MDHsQWUEm"
      }
    },
    {
      "cell_type": "code",
      "execution_count": null,
      "metadata": {
        "id": "-VRnhkEoUd1v"
      },
      "outputs": [],
      "source": [
        "import simpy\n",
        "import numpy as np\n",
        "\n",
        "# Definição dos parâmetros\n",
        "tempo_chegada = 30  # Média de chegada dos carros (segundos)\n",
        "tempo_atendimento = 20  # Média de atendimento (segundos)\n",
        "tempo_folga = 5 * 60  # Tempo de folga do atendente (5 minutos)\n",
        "tempo_total = 1 * 3600  # Tempo total da simulação (2 horas)\n",
        "fila = []\n",
        "\n",
        "def atender_carro(carro_id):\n",
        "  global fila\n",
        "  fila.append(carro_id)\n",
        "  print('Carros na fila:', fila)\n",
        "  with atendente.request() as req:\n",
        "    yield req\n",
        "    yield env.timeout(np.random.exponential(tempo_atendimento))\n",
        "    print(f\"Carro {carro_id} atendido em {env.now:.2f}s\")\n",
        "    fila.pop(0)\n",
        "    print('Carros na fila:', fila)\n",
        "\n",
        "\n",
        "# Processo de chegada dos carros\n",
        "def chegada_carros(env):\n",
        "    carro_id = 0\n",
        "    while True:\n",
        "        carro_id += 1\n",
        "        print(f\"Carro {carro_id} chegou em {env.now:.2f}s\")\n",
        "        #Errado\n",
        "        with atendente.request() as req:\n",
        "          yield req\n",
        "          yield env.timeout(np.random.exponential(tempo_atendimento))\n",
        "          print(f\"Carro {carro_id} atendido em {env.now:.2f}s\")\n",
        "          if len(fila) > 0:\n",
        "            fila.pop(0)\n",
        "          print('Carros na fila:', fila)\n",
        "        #Certo\n",
        "        #env.process(atender_carro(carro_id))\n",
        "        yield env.timeout(np.random.exponential(tempo_chegada))\n",
        "# Inicialização da simulação\n",
        "env = simpy.Environment()\n",
        "atendente = simpy.Resource(env, capacity=1)\n",
        "env.process(chegada_carros(env))\n",
        "env.run(until=tempo_total)"
      ]
    },
    {
      "cell_type": "markdown",
      "source": [
        "Exercício 1: Crie o processo de atendimento do carro no posto de pedágio. O tempo de atendimento é EXPO(20)\n",
        "a) Colete a ocupação do atendente\n",
        "b) O tempo médio de fila\n",
        "c) O tempo máximo na fila\n",
        "d) O número médio da fila\n",
        "e) Verifique o tempo ideal de simulação que mostra que os dados não se alteram muito"
      ],
      "metadata": {
        "id": "A1DQpJj1YqIt"
      }
    },
    {
      "cell_type": "markdown",
      "source": [
        "Incluindo uma parada do recurso"
      ],
      "metadata": {
        "id": "5GeKviK5QI8N"
      }
    },
    {
      "cell_type": "code",
      "source": [
        "import simpy\n",
        "import numpy as np\n",
        "\n",
        "# Definição dos parâmetros\n",
        "tempo_chegada = 30  # Média de chegada dos carros (segundos)\n",
        "tempo_atendimento = 20  # Média de atendimento (segundos)\n",
        "tempo_folga = 5 * 60  # Tempo de folga do atendente (5 minutos)\n",
        "tempo_total = 5 * 3600  # Tempo total da simulação (2 horas)\n",
        "\n",
        "\n",
        "def gerenciar_folga(env):\n",
        "  global em_folga, folga_pendente\n",
        "  while True:\n",
        "    yield env.timeout(3600)  # Espera 1 hora\n",
        "    if atendente.count > 0:  # Se estiver atendendo, marca a folga como pendente\n",
        "      print(f\"Atendente adiando folga para terminar atendimento em {env.now:.2f}s\")\n",
        "      folga_pendente = True\n",
        "    else:\n",
        "      print(f\"Atendente iniciando folga em {env.now:.2f}s\")\n",
        "      em_folga = True\n",
        "      yield env.timeout(tempo_folga)  # Tempo de descanso\n",
        "      em_folga = False\n",
        "      print(f\"Atendente retornou ao trabalho em {env.now:.2f}s\")\n",
        "\n",
        "def atender_carro(carro_id):\n",
        "  global em_folga, folga_pendente\n",
        "  with atendente.request() as req:\n",
        "    yield req\n",
        "    while em_folga:\n",
        "      yield env.timeout(1)  # Aguarda até o fim da folga\n",
        "    yield env.timeout(np.random.exponential(tempo_atendimento))\n",
        "    print(f\"Carro {carro_id} atendido em {env.now:.2f}s\")\n",
        "    if folga_pendente:  # Se folga estiver pendente, inicia após atendimento\n",
        "       folga_pendente = False\n",
        "       print(f\"Atendente iniciando folga em {env.now:.2f}s\")\n",
        "       em_folga = True\n",
        "       yield env.timeout(tempo_folga)  # Tempo de descanso\n",
        "       em_folga = False\n",
        "       print(f\"Atendente retornou ao trabalho em {env.now:.2f}s\")\n",
        "\n",
        "# Processo de chegada dos carros\n",
        "def chegada_carros(env):\n",
        "    carro_id = 0\n",
        "    while True:\n",
        "        yield env.timeout(np.random.exponential(tempo_chegada))\n",
        "        carro_id += 1\n",
        "        print(f\"Carro {carro_id} chegou em {env.now:.2f}s\")\n",
        "        env.process(atender_carro(carro_id))\n",
        "\n",
        "# Inicialização da simulação\n",
        "env = simpy.Environment()\n",
        "atendente = simpy.Resource(env, capacity=1)\n",
        "folga_pendente = False\n",
        "em_folga = False\n",
        "env.process(gerenciar_folga(env))\n",
        "env.process(chegada_carros(env))\n",
        "env.run(until=tempo_total)"
      ],
      "metadata": {
        "id": "gbMQmP5RLMqC"
      },
      "execution_count": null,
      "outputs": []
    },
    {
      "cell_type": "code",
      "source": [],
      "metadata": {
        "id": "gdswvW-DLs_N"
      },
      "execution_count": null,
      "outputs": []
    },
    {
      "cell_type": "markdown",
      "source": [
        "Exercício 2: Considere uma lavanderia com 4 lavadoras, 3 secadoras e 5 cestos de roupas. Quando um cliente chega (taxa Exponential(3)), ele coloca as roupas em uma máquina de lavar (ou aguarda em fila). A lavagem consome 20 minutos (constante). Ao terminar a lavagem, o cliente retira as roupas da máquina e coloca em um cesto e leva o cesto com suas roupas até a secadora, num processo que leva de 1 a 4 minutos distribuídos uniformemente. O cliente então descarrega as roupas do cesto diretamente para a secadora, espera a secagem e vai embora. Esse processo leva entre 9 e 12 minutos, uniformemente distribuídos. Construa um modelo de simulação que represente este processo. Simule por 10 horas e verifique o gargalo do sistema."
      ],
      "metadata": {
        "id": "yjvRppboaa65"
      }
    }
  ]
}