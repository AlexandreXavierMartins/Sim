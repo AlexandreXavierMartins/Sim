{
  "nbformat": 4,
  "nbformat_minor": 0,
  "metadata": {
    "colab": {
      "provenance": [],
      "authorship_tag": "ABX9TyNiWLZlzCRJ2MjBFP31U812",
      "include_colab_link": true
    },
    "kernelspec": {
      "name": "python3",
      "display_name": "Python 3"
    },
    "language_info": {
      "name": "python"
    }
  },
  "cells": [
    {
      "cell_type": "markdown",
      "metadata": {
        "id": "view-in-github",
        "colab_type": "text"
      },
      "source": [
        "<a href=\"https://colab.research.google.com/github/AlexandreXavierMartins/Sim/blob/main/simpy_aula_2.ipynb\" target=\"_parent\"><img src=\"https://colab.research.google.com/assets/colab-badge.svg\" alt=\"Open In Colab\"/></a>"
      ]
    },
    {
      "cell_type": "code",
      "source": [
        "!pip install simpy"
      ],
      "metadata": {
        "colab": {
          "base_uri": "https://localhost:8080/"
        },
        "id": "NI_s7RK7XVTD",
        "outputId": "a8c51785-ac1a-408e-c5d8-21df707dfa94"
      },
      "execution_count": 2,
      "outputs": [
        {
          "output_type": "stream",
          "name": "stdout",
          "text": [
            "Collecting simpy\n",
            "  Downloading simpy-4.1.1-py3-none-any.whl.metadata (6.1 kB)\n",
            "Downloading simpy-4.1.1-py3-none-any.whl (27 kB)\n",
            "Installing collected packages: simpy\n",
            "Successfully installed simpy-4.1.1\n"
          ]
        }
      ]
    },
    {
      "cell_type": "markdown",
      "source": [
        "Sistema Aberto"
      ],
      "metadata": {
        "id": "IU1MDHsQWUEm"
      }
    },
    {
      "cell_type": "code",
      "execution_count": 8,
      "metadata": {
        "colab": {
          "base_uri": "https://localhost:8080/"
        },
        "id": "-VRnhkEoUd1v",
        "outputId": "59555d87-141e-43f5-ce4c-46ac25ec9b33"
      },
      "outputs": [
        {
          "output_type": "stream",
          "name": "stdout",
          "text": [
            "23.9 Chegada do carro 1\n",
            "61.6 Chegada do carro 2\n",
            "89.3 Chegada do carro 3\n",
            "112.9 Chegada do carro 4\n",
            "129.4 Chegada do carro 5\n",
            "160.5 Chegada do carro 6\n",
            "177.8 Chegada do carro 7\n",
            "244.5 Chegada do carro 8\n",
            "344.0 Chegada do carro 9\n",
            "358.5 Chegada do carro 10\n",
            "405.5 Chegada do carro 11\n",
            "428.1 Chegada do carro 12\n",
            "453.3 Chegada do carro 13\n",
            "531.2 Chegada do carro 14\n",
            "533.5 Chegada do carro 15\n",
            "536.2 Chegada do carro 16\n",
            "536.8 Chegada do carro 17\n",
            "590.4 Chegada do carro 18\n",
            "635.6 Chegada do carro 19\n",
            "696.8 Chegada do carro 20\n",
            "812.2 Chegada do carro 21\n",
            "860.3 Chegada do carro 22\n",
            "878.9 Chegada do carro 23\n",
            "924.4 Chegada do carro 24\n",
            "928.2 Chegada do carro 25\n",
            "958.8 Chegada do carro 26\n",
            "963.5 Chegada do carro 27\n"
          ]
        }
      ],
      "source": [
        "import simpy\n",
        "import numpy as np\n",
        "\n",
        "np.random.seed(0)\n",
        "\n",
        "ocp = 0\n",
        "tempo_total_fila = 0\n",
        "cont_na_fila = 0\n",
        "\n",
        "def carros(env):\n",
        "  cont_carros = 0\n",
        "  while True:\n",
        "    chegada = np.random.exponential(30)\n",
        "    yield env.timeout(chegada)\n",
        "    cont_carros += 1\n",
        "    print('%.1f Chegada do carro %d' % (env.now, cont_carros))\n",
        "\n",
        "env = simpy.Environment()\n",
        "env.process(carros(env))\n",
        "\n",
        "env.run(until=1000)"
      ]
    },
    {
      "cell_type": "markdown",
      "source": [
        "Exercício 1: Crie o processo de atendimento do carro no posto de pedágio. O tempo de atendimento é EXPO(20)\n",
        "a) Colete a ocupação do atendente\n",
        "b) O tempo médio de fila\n",
        "c) O tempo máximo na fila\n",
        "d) O número médio da fila\n",
        "e) Verifique o tempo ideal de simulação que mostra que os dados não se alteram muito"
      ],
      "metadata": {
        "id": "A1DQpJj1YqIt"
      }
    },
    {
      "cell_type": "markdown",
      "source": [
        "Exercício 2: Considere uma lavanderia com 4 lavadoras, 3 secadoras e 5 cestos de roupas. Quando um cliente chega (taxa Exponential(3)), ele coloca as roupas em uma máquina de lavar (ou aguarda em fila). A lavagem consome 20 minutos (constante). Ao terminar a lavagem, o cliente retira as roupas da máquina e coloca em um cesto e leva o cesto com suas roupas até a secadora, num processo que leva de 1 a 4 minutos distribuídos uniformemente. O cliente então descarrega as roupas do cesto diretamente para a secadora, espera a secagem e vai embora. Esse processo leva entre 9 e 12 minutos, uniformemente distribuídos. Construa um modelo de simulação que represente este processo. Simule por 10 horas e verifique o gargalo do sistema."
      ],
      "metadata": {
        "id": "yjvRppboaa65"
      }
    },
    {
      "cell_type": "markdown",
      "source": [
        "Exercício 3: Devido ao alto número de caminhões na fila do sistema da carregadeira o gerente decidiu fazer a simulação do sistema. Sendo assim o seu funcionamento pode ser descrito da seguinte forma: os caminhões são carregados pela FX215, gastando em média Normal(200, 15) segundos, depois seguem para o local onde está o britador com um tempo de Normal(90, 5) segundos, chegando lá eles descarregam com um tempo de Normal(50, 7) segundos e voltam para o local onde está a carregadeira com um tempo de Normal(70, 6) segundos. Simule o sistema."
      ],
      "metadata": {
        "id": "ut-rWg3MdTgz"
      }
    }
  ]
}