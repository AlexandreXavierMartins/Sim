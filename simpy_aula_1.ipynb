{
  "nbformat": 4,
  "nbformat_minor": 0,
  "metadata": {
    "colab": {
      "provenance": [],
      "authorship_tag": "ABX9TyM2w+u+xAfCDu8cuv6vDB9w",
      "include_colab_link": true
    },
    "kernelspec": {
      "name": "python3",
      "display_name": "Python 3"
    },
    "language_info": {
      "name": "python"
    }
  },
  "cells": [
    {
      "cell_type": "markdown",
      "metadata": {
        "id": "view-in-github",
        "colab_type": "text"
      },
      "source": [
        "<a href=\"https://colab.research.google.com/github/AlexandreXavierMartins/Sim/blob/main/simpy_aula_1.ipynb\" target=\"_parent\"><img src=\"https://colab.research.google.com/assets/colab-badge.svg\" alt=\"Open In Colab\"/></a>"
      ]
    },
    {
      "cell_type": "code",
      "source": [
        "!pip install simpy"
      ],
      "metadata": {
        "colab": {
          "base_uri": "https://localhost:8080/"
        },
        "id": "CODxHN9upEJC",
        "outputId": "099c7a2e-29c2-417d-ed27-b3a3bf9e26ec"
      },
      "execution_count": 1,
      "outputs": [
        {
          "output_type": "stream",
          "name": "stdout",
          "text": [
            "Collecting simpy\n",
            "  Downloading simpy-4.1.1-py3-none-any.whl.metadata (6.1 kB)\n",
            "Downloading simpy-4.1.1-py3-none-any.whl (27 kB)\n",
            "Installing collected packages: simpy\n",
            "Successfully installed simpy-4.1.1\n"
          ]
        }
      ]
    },
    {
      "cell_type": "markdown",
      "source": [
        "Relógio da simulação:\n",
        "\n",
        "a) Tarefas sequenciais\n",
        "\n",
        "b) Tarefas paralelas"
      ],
      "metadata": {
        "id": "9sta1UXKy9sr"
      }
    },
    {
      "cell_type": "code",
      "source": [
        "import simpy\n",
        "import numpy as np\n",
        "\n",
        "np.random.seed(0)\n",
        "\n",
        "def processo_seq(env):\n",
        "  while True:\n",
        "\n",
        "    yield env.timeout(1)\n",
        "    print('Processo lento %f' %(env.now))\n",
        "    yield env.timeout(0.2)\n",
        "    print('Processo rápido %f' %(env.now))\n",
        "\n",
        "env = simpy.Environment()\n",
        "env.process(processo_seq(env))\n",
        "env.run(until=5)"
      ],
      "metadata": {
        "id": "7GuuRcjNzH8T"
      },
      "execution_count": null,
      "outputs": []
    },
    {
      "cell_type": "code",
      "source": [
        "import simpy\n",
        "import numpy as np\n",
        "\n",
        "np.random.seed(0)\n",
        "\n",
        "def processo1(env):\n",
        "  while True:\n",
        "    yield env.timeout(1)\n",
        "    print('Processo lento %f' %(env.now))\n",
        "def processo2(env):\n",
        "  while True:\n",
        "    yield env.timeout(0.2)\n",
        "    print('Processo rápido %f' %(env.now))\n",
        "\n",
        "\n",
        "env = simpy.Environment()\n",
        "env.process(processo1(env))\n",
        "env.process(processo2(env))\n",
        "env.run(until=5)"
      ],
      "metadata": {
        "id": "yb4PHA5Kz28q"
      },
      "execution_count": null,
      "outputs": []
    },
    {
      "cell_type": "markdown",
      "source": [
        "Criando os processos de uma entidade:"
      ],
      "metadata": {
        "id": "pAdVu36ds33N"
      }
    },
    {
      "cell_type": "code",
      "execution_count": null,
      "metadata": {
        "id": "0Ps252o5mECv"
      },
      "outputs": [],
      "source": [
        "import simpy\n",
        "import numpy as np\n",
        "\n",
        "np.random.seed(0)\n",
        "\n",
        "\n",
        "def escavadeira(env):\n",
        "  while True:\n",
        "    print('Escavadeira trabalhando em %f' %(env.now))\n",
        "    work = np.random.exponential(7)\n",
        "    yield env.timeout(work)\n",
        "    print('Começou manutenção da escavadeira em %f' %(env.now))\n",
        "    repair = np.random.exponential(1)\n",
        "    yield env.timeout(repair)\n",
        "\n",
        "env = simpy.Environment()\n",
        "env.process(escavadeira(env))\n",
        "\n",
        "\n",
        "env.run(until=50)"
      ]
    },
    {
      "cell_type": "markdown",
      "source": [
        "Trabalhando com mais de uma entidade do mesmo tipo"
      ],
      "metadata": {
        "id": "9mFUcRH6tS39"
      }
    },
    {
      "cell_type": "code",
      "source": [
        "import simpy\n",
        "import numpy as np\n",
        "\n",
        "np.random.seed(0)\n",
        "\n",
        "\n",
        "def escavadeira(env, nome):\n",
        "  while True:\n",
        "    print('Escavadeira %s trabalhando em %f' %(nome, env.now))\n",
        "    work = np.random.exponential(7)\n",
        "    yield env.timeout(work)\n",
        "    print('Começou manutenção da escavadeira %s em %f' %(nome, env.now))\n",
        "    repair = np.random.exponential(1)\n",
        "    yield env.timeout(repair)\n",
        "\n",
        "env = simpy.Environment()\n",
        "env.process(escavadeira(env, '%d' % 1))\n",
        "\n",
        "\n",
        "env.run(until=50)"
      ],
      "metadata": {
        "id": "L_v_m7tjs99i"
      },
      "execution_count": null,
      "outputs": []
    },
    {
      "cell_type": "markdown",
      "source": [
        "Trabalhando com recursos com capacidade limitada"
      ],
      "metadata": {
        "id": "wVHcHZvat08m"
      }
    },
    {
      "cell_type": "code",
      "source": [
        "import simpy\n",
        "import numpy as np\n",
        "\n",
        "np.random.seed(0)\n",
        "\n",
        "\n",
        "def escavadeira(env, nome, eqp):\n",
        "  while True:\n",
        "    print('Escavadeira %s trabalhando em %f' %(nome, env.now))\n",
        "    work = np.random.exponential(7)\n",
        "    yield env.timeout(work)\n",
        "    print('Escavadeira %s quebrou em %f' %(nome, env.now))\n",
        "    with eqp.request() as req:\n",
        "      yield req\n",
        "      print('Começou manutenção da escavadeira %s em %f' %(nome, env.now))\n",
        "      repair = np.random.exponential(1)\n",
        "      yield env.timeout(repair)\n",
        "\n",
        "env = simpy.Environment()\n",
        "eqp = simpy.Resource(env, capacity=1)\n",
        "for i in range(7):\n",
        "  env.process(escavadeira(env, '%d' % i, eqp))\n",
        "\n",
        "\n",
        "\n",
        "env.run(until=50)\n"
      ],
      "metadata": {
        "id": "4Ja15qMLt6oj"
      },
      "execution_count": null,
      "outputs": []
    },
    {
      "cell_type": "markdown",
      "source": [
        "Pegando o tempo de ocupação do recurso:"
      ],
      "metadata": {
        "id": "r94Blgl72gdl"
      }
    },
    {
      "cell_type": "code",
      "source": [
        "import simpy\n",
        "import numpy as np\n",
        "\n",
        "np.random.seed(0)\n",
        "\n",
        "ocp = 0\n",
        "def escavadeira(env, nome, eqp):\n",
        "  global ocp\n",
        "  while True:\n",
        "    print('Escavadeira %s trabalhando em %f' %(nome, env.now))\n",
        "    work = np.random.exponential(7)\n",
        "    yield env.timeout(work)\n",
        "    print('Escavadeira %s quebrou em %f' %(nome, env.now))\n",
        "\n",
        "\n",
        "    with eqp.request() as req:\n",
        "      yield req\n",
        "      print('Começou manutenção da escavadeira %s em %f' %(nome, env.now))\n",
        "      repair = np.random.exponential(1)\n",
        "      ocp += repair\n",
        "      yield env.timeout(repair)\n",
        "\n",
        "env = simpy.Environment()\n",
        "eqp = simpy.Resource(env, capacity=1)\n",
        "for i in range(7):\n",
        "  env.process(escavadeira(env, '%d' % i, eqp))\n",
        "\n",
        "\n",
        "\n",
        "env.run(until=10)\n",
        "print(f\"Tempo total que o recurso 'eqp' ficou ocupado: {ocp}\")\n"
      ],
      "metadata": {
        "id": "C6eWkxKs2jqE"
      },
      "execution_count": null,
      "outputs": []
    },
    {
      "cell_type": "markdown",
      "source": [
        "Tempo de Fila das Escavadeiras"
      ],
      "metadata": {
        "id": "d-hXBSCARBUo"
      }
    },
    {
      "cell_type": "code",
      "source": [
        "import simpy\n",
        "import numpy as np\n",
        "\n",
        "np.random.seed(0)\n",
        "\n",
        "ocp = 0\n",
        "tempo_total_fila = 0\n",
        "cont_na_fila = 0\n",
        "\n",
        "def escavadeira(env, nome, eqp):\n",
        "  global ocp\n",
        "  global tempo_total_fila\n",
        "  global cont_na_fila\n",
        "  while True:\n",
        "    print('Escavadeira %s trabalhando em %f' %(nome, env.now))\n",
        "    work = np.random.exponential(7)\n",
        "    yield env.timeout(work)\n",
        "    print('Escavadeira %s quebrou em %f' %(nome, env.now))\n",
        "    tempo = env.now\n",
        "    with eqp.request() as req:\n",
        "      yield req\n",
        "      print('Começou manutenção da escavadeira %s em %f' %(nome, env.now))\n",
        "      tempo = env.now - tempo\n",
        "      if tempo > t_max:\n",
        "        t_max = tempo\n",
        "      if tempo < t_min:\n",
        "        t_min = tempo\n",
        "\n",
        "      tempo_total_fila += tempo\n",
        "      cont_na_fila += 1\n",
        "      repair = np.random.exponential(1)\n",
        "      ocp += repair\n",
        "      yield env.timeout(repair)\n",
        "\n",
        "env = simpy.Environment()\n",
        "eqp = simpy.Resource(env, capacity=1)\n",
        "for i in range(7):\n",
        "  env.process(escavadeira(env, '%d' % i, eqp))\n",
        "\n",
        "\n",
        "\n",
        "env.run(until=10)\n",
        "print(f\"Tempo total que o recurso 'eqp' ficou ocupado: {ocp}\")\n",
        "print(f\"Tempo médio que uma escavadeira ficou na fila: {tempo_total_fila/cont_na_fila}\")\n",
        "print(f\"Tempo máximo que uma escavadeira ficou na fila: {t_max}\")\n",
        "print(f\"Tempo mínimo que uma escavadeira ficou na fila: {t_min}\")\n"
      ],
      "metadata": {
        "id": "84fPfflwRGj3"
      },
      "execution_count": null,
      "outputs": []
    },
    {
      "cell_type": "markdown",
      "source": [
        "Exercício 1: Encontre o tempo máximo que uma escavadeira fica na fila."
      ],
      "metadata": {
        "id": "mVGXPtcfTuQA"
      }
    },
    {
      "cell_type": "code",
      "source": [],
      "metadata": {
        "id": "aid95PtbUQ8V"
      },
      "execution_count": null,
      "outputs": []
    },
    {
      "cell_type": "markdown",
      "source": [
        "Exercício 2: Encontre o número médio de escavadeiras na fila. (Obs. Para pegar o tamanho da fila em um determinado momento use o comando len(eqp.queue)"
      ],
      "metadata": {
        "id": "N5X-vdXbT6Ze"
      }
    },
    {
      "cell_type": "markdown",
      "source": [
        "Exercício 3: Devido ao alto número de caminhões na fila do sistema da carregadeira o gerente decidiu fazer a simulação do sistema. Sendo assim o seu funcionamento pode ser descrito da seguinte forma: os caminhões são carregados pela FX215, gastando em média Normal(200, 15) segundos, depois seguem para o local onde está o britador com um tempo de Normal(90, 5) segundos, chegando lá eles descarregam com um tempo de Normal(50, 7) segundos e voltam para o local onde está a carregadeira com um tempo de Normal(70, 6) segundos. O sistema possui 8 caminhões. Simule por 7 dias, 24 horas por dia. Colete o tempo de fila na carregadeira e no britador."
      ],
      "metadata": {
        "id": "wPWLvugi60tQ"
      }
    }
  ]
}