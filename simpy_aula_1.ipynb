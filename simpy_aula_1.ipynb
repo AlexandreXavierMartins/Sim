{
  "nbformat": 4,
  "nbformat_minor": 0,
  "metadata": {
    "colab": {
      "provenance": [],
      "authorship_tag": "ABX9TyMGg3XYdSED+89GjVJKdcv2",
      "include_colab_link": true
    },
    "kernelspec": {
      "name": "python3",
      "display_name": "Python 3"
    },
    "language_info": {
      "name": "python"
    }
  },
  "cells": [
    {
      "cell_type": "markdown",
      "metadata": {
        "id": "view-in-github",
        "colab_type": "text"
      },
      "source": [
        "<a href=\"https://colab.research.google.com/github/AlexandreXavierMartins/Sim/blob/main/simpy_aula_1.ipynb\" target=\"_parent\"><img src=\"https://colab.research.google.com/assets/colab-badge.svg\" alt=\"Open In Colab\"/></a>"
      ]
    },
    {
      "cell_type": "code",
      "source": [
        "!pip install simpy"
      ],
      "metadata": {
        "colab": {
          "base_uri": "https://localhost:8080/"
        },
        "id": "CODxHN9upEJC",
        "outputId": "43e89003-4e38-49f4-8894-d167debf72ba"
      },
      "execution_count": 2,
      "outputs": [
        {
          "output_type": "stream",
          "name": "stdout",
          "text": [
            "Collecting simpy\n",
            "  Downloading simpy-4.1.1-py3-none-any.whl.metadata (6.1 kB)\n",
            "Downloading simpy-4.1.1-py3-none-any.whl (27 kB)\n",
            "Installing collected packages: simpy\n",
            "Successfully installed simpy-4.1.1\n"
          ]
        }
      ]
    },
    {
      "cell_type": "markdown",
      "source": [
        "Criando os processos de uma entidade:"
      ],
      "metadata": {
        "id": "pAdVu36ds33N"
      }
    },
    {
      "cell_type": "code",
      "execution_count": 12,
      "metadata": {
        "colab": {
          "base_uri": "https://localhost:8080/"
        },
        "id": "0Ps252o5mECv",
        "outputId": "7df9a0d9-fdd9-4353-acb7-44579048ff69"
      },
      "outputs": [
        {
          "output_type": "stream",
          "name": "stdout",
          "text": [
            "Escavadeira trabalhando em 0.000000\n",
            "Escavadeira trabalhando em 0.000000\n",
            "Começou manutenção da escavadeira em 5.571122\n",
            "Escavadeira trabalhando em 6.494345\n",
            "Começou manutenção da escavadeira em 8.791515\n",
            "Escavadeira trabalhando em 9.342564\n",
            "Começou manutenção da escavadeira em 12.004753\n",
            "Escavadeira trabalhando em 12.580272\n",
            "Começou manutenção da escavadeira em 16.609679\n",
            "Escavadeira trabalhando em 19.924591\n",
            "Começou manutenção da escavadeira em 23.309806\n",
            "Escavadeira trabalhando em 24.878702\n",
            "Começou manutenção da escavadeira em 28.144943\n",
            "Escavadeira trabalhando em 28.984376\n",
            "Começou manutenção da escavadeira em 30.147421\n",
            "Escavadeira trabalhando em 30.221106\n",
            "Começou manutenção da escavadeira em 30.859233\n",
            "Escavadeira trabalhando em 30.879659\n",
            "Começou manutenção da escavadeira em 43.392073\n",
            "Escavadeira trabalhando em 44.897857\n",
            "Começou manutenção da escavadeira em 47.172155\n"
          ]
        }
      ],
      "source": [
        "import simpy\n",
        "import numpy as np\n",
        "\n",
        "np.random.seed(0)\n",
        "\n",
        "\n",
        "def escavadeira(env):\n",
        "  while True:\n",
        "    print('Escavadeira trabalhando em %f' %(env.now))\n",
        "    work = np.random.exponential(7)\n",
        "    yield env.timeout(work)\n",
        "    print('Começou manutenção da escavadeira em %f' %(env.now))\n",
        "    repair = np.random.exponential(1)\n",
        "    yield env.timeout(repair)\n",
        "\n",
        "env = simpy.Environment()\n",
        "env.process(escavadeira(env))\n",
        "\n",
        "\n",
        "env.run(until=50)"
      ]
    },
    {
      "cell_type": "markdown",
      "source": [
        "Trabalhando com mais de uma entidade do mesmo tipo"
      ],
      "metadata": {
        "id": "9mFUcRH6tS39"
      }
    },
    {
      "cell_type": "code",
      "source": [
        "import simpy\n",
        "import numpy as np\n",
        "\n",
        "np.random.seed(0)\n",
        "\n",
        "\n",
        "def escavadeira(env, nome):\n",
        "  while True:\n",
        "    print('Escavadeira %s trabalhando em %f' %(nome, env.now))\n",
        "    work = np.random.exponential(7)\n",
        "    yield env.timeout(work)\n",
        "    print('Começou manutenção da escavadeira %s em %f' %(nome, env.now))\n",
        "    repair = np.random.exponential(1)\n",
        "    yield env.timeout(repair)\n",
        "\n",
        "env = simpy.Environment()\n",
        "env.process(escavadeira(env, '%d' % 1))\n",
        "\n",
        "\n",
        "env.run(until=50)"
      ],
      "metadata": {
        "colab": {
          "base_uri": "https://localhost:8080/"
        },
        "id": "L_v_m7tjs99i",
        "outputId": "d05d59c4-4a38-438f-db43-0e83c55234e7"
      },
      "execution_count": 14,
      "outputs": [
        {
          "output_type": "stream",
          "name": "stdout",
          "text": [
            "Escavadeira 1 trabalhando em 0.000000\n",
            "Começou manutenção da escavadeira 1 em 5.571122\n",
            "Escavadeira 1 trabalhando em 6.827052\n",
            "Começou manutenção da escavadeira 1 em 13.289614\n",
            "Escavadeira 1 trabalhando em 14.076815\n",
            "Começou manutenção da escavadeira 1 em 17.934155\n",
            "Escavadeira 1 trabalhando em 18.972314\n",
            "Começou manutenção da escavadeira 1 em 23.000949\n",
            "Escavadeira 1 trabalhando em 25.224473\n",
            "Começou manutenção da escavadeira 1 em 48.428858\n",
            "Escavadeira 1 trabalhando em 48.912460\n"
          ]
        }
      ]
    },
    {
      "cell_type": "markdown",
      "source": [
        "Trabalhando com recursos com capacidade limitada"
      ],
      "metadata": {
        "id": "wVHcHZvat08m"
      }
    },
    {
      "cell_type": "code",
      "source": [
        "import simpy\n",
        "import numpy as np\n",
        "\n",
        "np.random.seed(0)\n",
        "\n",
        "\n",
        "def escavadeira(env, nome, eqp):\n",
        "  while True:\n",
        "    print('Escavadeira %s trabalhando em %f' %(nome, env.now))\n",
        "    work = np.random.exponential(7)\n",
        "    yield env.timeout(work)\n",
        "    print('Escavadeira %s quebrou em %f' %(nome, env.now))\n",
        "    with eqp.request() as req:\n",
        "      yield req\n",
        "      print('Começou manutenção da escavadeira %s em %f' %(nome, env.now))\n",
        "      repair = np.random.exponential(1)\n",
        "      yield env.timeout(repair)\n",
        "\n",
        "env = simpy.Environment()\n",
        "eqp = simpy.Resource(env, capacity=1)\n",
        "for i in range(7):\n",
        "  env.process(escavadeira(env, '%d' % i, eqp))\n",
        "\n",
        "\n",
        "\n",
        "env.run(until=50)\n"
      ],
      "metadata": {
        "id": "4Ja15qMLt6oj"
      },
      "execution_count": null,
      "outputs": []
    },
    {
      "cell_type": "markdown",
      "source": [
        "Pegando o tempo de ocupação do recurso:"
      ],
      "metadata": {
        "id": "r94Blgl72gdl"
      }
    },
    {
      "cell_type": "code",
      "source": [
        "import simpy\n",
        "import numpy as np\n",
        "\n",
        "np.random.seed(0)\n",
        "\n",
        "ocp = 0\n",
        "def escavadeira(env, nome, eqp):\n",
        "  global ocp\n",
        "  while True:\n",
        "    print('Escavadeira %s trabalhando em %f' %(nome, env.now))\n",
        "    work = np.random.exponential(7)\n",
        "    yield env.timeout(work)\n",
        "    print('Escavadeira %s quebrou em %f' %(nome, env.now))\n",
        "\n",
        "\n",
        "    with eqp.request() as req:\n",
        "      yield req\n",
        "      print('Começou manutenção da escavadeira %s em %f' %(nome, env.now))\n",
        "      repair = np.random.exponential(1)\n",
        "      ocp += repair\n",
        "      yield env.timeout(repair)\n",
        "\n",
        "env = simpy.Environment()\n",
        "eqp = simpy.Resource(env, capacity=1)\n",
        "for i in range(7):\n",
        "  env.process(escavadeira(env, '%d' % i, eqp))\n",
        "\n",
        "\n",
        "\n",
        "env.run(until=10)\n",
        "print(f\"Tempo total que o recurso 'eqp' ficou ocupado: {ocp}\")\n"
      ],
      "metadata": {
        "colab": {
          "base_uri": "https://localhost:8080/"
        },
        "id": "C6eWkxKs2jqE",
        "outputId": "14117292-ba69-469f-e538-51e9b307eb5b"
      },
      "execution_count": 25,
      "outputs": [
        {
          "output_type": "stream",
          "name": "stdout",
          "text": [
            "Escavadeira 0 trabalhando em 0.000000\n",
            "Escavadeira 1 trabalhando em 0.000000\n",
            "Escavadeira 2 trabalhando em 0.000000\n",
            "Escavadeira 3 trabalhando em 0.000000\n",
            "Escavadeira 4 trabalhando em 0.000000\n",
            "Escavadeira 5 trabalhando em 0.000000\n",
            "Escavadeira 6 trabalhando em 0.000000\n",
            "Escavadeira 4 quebrou em 3.857339\n",
            "Começou manutenção da escavadeira 4 em 3.857339\n",
            "Escavadeira 6 quebrou em 4.028634\n",
            "Escavadeira 3 quebrou em 5.510408\n",
            "Escavadeira 0 quebrou em 5.571122\n",
            "Escavadeira 4 trabalhando em 6.080864\n",
            "Começou manutenção da escavadeira 6 em 6.080864\n",
            "Escavadeira 2 quebrou em 6.462562\n",
            "Escavadeira 6 trabalhando em 6.564466\n",
            "Começou manutenção da escavadeira 3 em 6.564466\n",
            "Escavadeira 5 quebrou em 7.267115\n",
            "Escavadeira 3 trabalhando em 7.317140\n",
            "Começou manutenção da escavadeira 0 em 7.317140\n",
            "Escavadeira 1 quebrou em 8.791515\n",
            "Escavadeira 0 trabalhando em 9.915394\n",
            "Começou manutenção da escavadeira 2 em 9.915394\n",
            "Tempo total que o recurso 'eqp' ficou ocupado: 6.14921580651594\n"
          ]
        }
      ]
    }
  ]
}