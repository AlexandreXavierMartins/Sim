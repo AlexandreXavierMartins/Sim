{
  "nbformat": 4,
  "nbformat_minor": 0,
  "metadata": {
    "colab": {
      "provenance": [],
      "authorship_tag": "ABX9TyObvv3GIhX+y9B/OhhKAzsC",
      "include_colab_link": true
    },
    "kernelspec": {
      "name": "python3",
      "display_name": "Python 3"
    },
    "language_info": {
      "name": "python"
    }
  },
  "cells": [
    {
      "cell_type": "markdown",
      "metadata": {
        "id": "view-in-github",
        "colab_type": "text"
      },
      "source": [
        "<a href=\"https://colab.research.google.com/github/AlexandreXavierMartins/Sim/blob/main/simpy_aula_3.ipynb\" target=\"_parent\"><img src=\"https://colab.research.google.com/assets/colab-badge.svg\" alt=\"Open In Colab\"/></a>"
      ]
    },
    {
      "cell_type": "code",
      "execution_count": 1,
      "metadata": {
        "colab": {
          "base_uri": "https://localhost:8080/"
        },
        "id": "WxjQtU7g_hsH",
        "outputId": "e1f17672-88d8-4787-85d6-49e3daa825c8"
      },
      "outputs": [
        {
          "output_type": "stream",
          "name": "stdout",
          "text": [
            "Collecting simpy\n",
            "  Downloading simpy-4.1.1-py3-none-any.whl.metadata (6.1 kB)\n",
            "Downloading simpy-4.1.1-py3-none-any.whl (27 kB)\n",
            "Installing collected packages: simpy\n",
            "Successfully installed simpy-4.1.1\n"
          ]
        }
      ],
      "source": [
        "!pip install simpy"
      ]
    },
    {
      "cell_type": "markdown",
      "source": [
        "Em um banco, clientes chegam a cada 2 minutos seguindo uma distribuição exponencial. Dos clientes que chegam $20\\%$ são clientes com atendimento preferencial, o restante vai para o caixa normal. O tempo médio de atendimento em qualquer caixa é de 6 minutos com desvio padrão de 30 segundos, seguindo uma distribuição normal. Simule por 50 dias, sem aquecimento, 24 horas por dia. Defina o número mínimo de atendentes em cada tipo de caixa de maneira que o tempo máximo de fila não ultrapasse 40 minutos. Conte quantos clientes são atendidos em cada caixa."
      ],
      "metadata": {
        "id": "74aU5nTVol1R"
      }
    },
    {
      "cell_type": "code",
      "source": [
        "import simpy\n",
        "import numpy as np\n",
        "\n",
        "# Definição dos parâmetros\n",
        "tempo_chegada = 2  # Chegada de Cliente (minutos)\n",
        "tempo_total = 50*24*60  # Tempo total da simulação (10 dias)\n",
        "fila_normal = []\n",
        "fila_preferencial = []\n",
        "cont_normal = 0\n",
        "cont_preferencial = 0\n",
        "tempo_max = 0\n",
        "cap_normal = 20\n",
        "cap_preferencial = 1\n",
        "imprime = 0\n",
        "\n",
        "def atende_preferencial(cliente_id):\n",
        "  global fila_preferencial, tempo_max, cont_preferencial\n",
        "  if imprime:\n",
        "    print(f\"Chegada do Cliente Preferencial {cliente_id} em {env.now:.2f}s\")\n",
        "  if (cap_preferencial - atendente_preferencial.count) == 0:\n",
        "    fila_preferencial.append(cliente_id)\n",
        "    if imprime:\n",
        "      print('Fila Pref.', fila_preferencial)\n",
        "    tempo = env.now\n",
        "  with atendente_preferencial.request() as req:\n",
        "    yield req\n",
        "    if len(fila_preferencial) > 0:\n",
        "      fila_preferencial.pop(0)\n",
        "      tempo = env.now - tempo\n",
        "      if tempo > tempo_max:\n",
        "        tempo_max = tempo\n",
        "    if imprime:\n",
        "      print('Fila Pref.', fila_preferencial)\n",
        "      print(f\"Cliente Preferencial {cliente_id} começa atendimento {env.now:.2f}s\")\n",
        "    yield env.timeout(np.random.normal(6, 0.5))\n",
        "    if imprime:\n",
        "      print(f\"Cliente Preferencial {cliente_id} atendido em {env.now:.2f}s\")\n",
        "    cont_preferencial += 1\n",
        "\n",
        "\n",
        "def atende_normal(cliente_id):\n",
        "  global fila_normal, tempo_max, cont_normal\n",
        "  if imprime:\n",
        "    print(f\"Chegada do Cliente Normal {cliente_id} em {env.now:.2f}s\")\n",
        "\n",
        "  if (cap_normal - atendente_normal.count) == 0:\n",
        "    fila_normal.append(cliente_id)\n",
        "    tempo = env.now\n",
        "    if imprime:\n",
        "      print('Fila Norm.', fila_normal)\n",
        "  with atendente_normal.request() as req:\n",
        "    yield req\n",
        "    if len(fila_normal) > 0:\n",
        "      fila_normal.pop(0)\n",
        "      tempo = env.now - tempo\n",
        "      if tempo > tempo_max:\n",
        "        tempo_max = tempo\n",
        "    if imprime:\n",
        "      print('Fila Norm.', fila_normal)\n",
        "      print(f\"Cliente {cliente_id} começa atendimento {env.now:.2f}s\")\n",
        "    yield env.timeout(np.random.normal(6, 0.5))\n",
        "    if imprime:\n",
        "      print(f\"Cliente {cliente_id} atendido em {env.now:.2f}s\")\n",
        "    cont_normal += 1\n",
        "\n",
        "# Processo de chegada dos carros\n",
        "def chegada_cliente(env):\n",
        "    cliente_id = 0\n",
        "    while True:\n",
        "        cliente_id += 1\n",
        "        #Sorteia qual caixa, 20% Preferencial e 80% normal\n",
        "        x = np.random.uniform(0, 1)\n",
        "        if x <= 0.2:\n",
        "          env.process(atende_preferencial(cliente_id))\n",
        "        else:\n",
        "          env.process(atende_normal(cliente_id))\n",
        "        #Gera nova chegada\n",
        "        yield env.timeout(np.random.exponential(tempo_chegada))\n",
        "# Inicialização da simulação\n",
        "env = simpy.Environment()\n",
        "atendente_normal = simpy.Resource(env, capacity=cap_normal)\n",
        "atendente_preferencial = simpy.Resource(env, capacity=cap_preferencial)\n",
        "env.process(chegada_cliente(env))\n",
        "#env.run(until=200)\n",
        "env.run(until=tempo_total)\n",
        "print('Tempo máximo de fila:', tempo_max,'minutos')\n",
        "print('Clientes atendidos em cada caixa:', cont_normal, cont_preferencial)"
      ],
      "metadata": {
        "colab": {
          "base_uri": "https://localhost:8080/"
        },
        "id": "obTnbmL0omJB",
        "outputId": "eb13a2d7-3129-423d-c9d4-ea748007f64c"
      },
      "execution_count": null,
      "outputs": [
        {
          "output_type": "stream",
          "name": "stdout",
          "text": [
            "Tempo máximo de fila: 44.754215811844915 minutos\n",
            "Clientes atendidos em cada caixa: 28879 7137\n"
          ]
        }
      ]
    },
    {
      "cell_type": "markdown",
      "source": [
        "Atributo:\n",
        "\n",
        "Produtos são transportados entre 2 postos de trabalho. O tempo de transporte é em função de seu peso. Sabe-se que os produtos pesam em média 100 kg com um desvio padrão de 5 kg, seguindo uma Normal. O tempo de transporte do produto é dado pela seguinte função $t(p) = p \\times 0.33 + 5$ (minutos), onde p é o peso do produto, se o produto pesa mais que 100 quilos ele é enviado ao setor 1, senão é enviado ao setor 2. Somente um produto pode ser transportado por vez. O intervalo entre chegadas é de 50 minutos seguindo uma Exponencial. Construa um modelo de simulação e simule o funcionamento desse sistema por 400 horas. Verifique quantos produtos foram levados para cada setor."
      ],
      "metadata": {
        "id": "up_uC8UkYvLU"
      }
    },
    {
      "cell_type": "code",
      "source": [
        "import simpy\n",
        "import numpy as np\n",
        "\n",
        "tempo_total = 2*60\n",
        "tempo_chegada = 50\n",
        "imprime = 1\n",
        "\n",
        "def transporte(produto_id, peso):\n",
        "  global imprime\n",
        "  if imprime:\n",
        "    print(f\"Chegada do produto {produto_id} com peso {peso} em {env.now:.2f}s\")\n",
        "\n",
        "  with transportador.request() as req:\n",
        "    yield req\n",
        "    yield env.timeout(peso*0.33 + 5)\n",
        "    if imprime:\n",
        "      print(f\"Produto {produto_id} tranportado {env.now:.2f}s\")\n",
        "\n",
        "\n",
        "\n",
        "\n",
        "# Processo de chegada dos produtos\n",
        "def chegada_produto(env):\n",
        "    produto_id = 0\n",
        "    while True:\n",
        "        produto_id += 1\n",
        "        #Sorteia o peso do produto entre Normal(100, 5)\n",
        "        peso = np.random.normal(100, 5)\n",
        "        if imprime:\n",
        "          print(f\"Peso do produto {produto_id}: {peso}\")\n",
        "        env.process(transporte(produto_id, peso))\n",
        "        #Gera nova chegada\n",
        "        yield env.timeout(np.random.exponential(tempo_chegada))\n",
        "\n",
        "\n",
        "# Inicialização da simulação\n",
        "env = simpy.Environment()\n",
        "transportador = simpy.Resource(env, capacity=1)\n",
        "env.process(chegada_produto(env))\n",
        "\n",
        "env.run(until = tempo_total)"
      ],
      "metadata": {
        "colab": {
          "base_uri": "https://localhost:8080/"
        },
        "id": "TwXkIf1ZY0Cc",
        "outputId": "7dae0eff-a6a5-4f8b-ecc2-350428996e11"
      },
      "execution_count": 7,
      "outputs": [
        {
          "output_type": "stream",
          "name": "stdout",
          "text": [
            "Peso do produto 1: 103.40601031616292\n",
            "Chegada do produto 1 com peso 103.40601031616292 em 0.00s\n",
            "Produto 1 tranportado 39.12s\n",
            "Peso do produto 2: 95.04717523599385\n",
            "Chegada do produto 2 com peso 95.04717523599385 em 40.85s\n",
            "Peso do produto 3: 96.77136157098872\n",
            "Chegada do produto 3 com peso 96.77136157098872 em 57.75s\n",
            "Produto 2 tranportado 77.21s\n",
            "Produto 3 tranportado 114.15s\n"
          ]
        }
      ]
    },
    {
      "cell_type": "markdown",
      "source": [
        "Variável:\n",
        "\n",
        "Carros chegam a um posto de combustível a cada 15 minutos seguindo uma distribuição exponencial. Cada carro tem uma demanda média de 25 litros com desvio padrão de 3 litros. Caso não tenha combustível suficiente o carro deixa o posto. O combustível chega a cada 10 dias em média com um desvio padrão de 2 dias e completa o estoque do posto, que tem capacidade de 1000 litros. A demanda de cada carro segue uma distribuição normal. Desconsidere o tempo de abastecimento. Simule por 100 dias, 24 horas por dia. Conte o número de carros abastecidos e não abastecidos. Coloque na tela o valor atual do estoque e o número de carros abastecidos e não abastecidos. Colete os dados em dias. Verifique se o sistema está bem dimensionado."
      ],
      "metadata": {
        "id": "6EGbxPIKcRu-"
      }
    },
    {
      "cell_type": "code",
      "source": [
        "import simpy\n",
        "import numpy as np\n",
        "\n",
        "tempo_total = 24*60*100\n",
        "tempo_chegada = 15\n",
        "imprime = 0\n",
        "cont = 0\n",
        "Estoque = 10000\n",
        "\n",
        "def chegada_estoque(env):\n",
        "  global Estoque\n",
        "  while True:\n",
        "    yield env.timeout(np.random.normal(10*24*60, 2*24*60))\n",
        "    Estoque = 10000\n",
        "\n",
        "def abastece(carro_id, demanda):\n",
        "  global imprime, Estoque, cont\n",
        "  yield env.timeout(0)\n",
        "  if demanda <= Estoque:\n",
        "    Estoque -= demanda\n",
        "    #print(f\"Carro {carro_id} abastecido {env.now:.2f}s\")\n",
        "    print('Estoque atual:', Estoque)\n",
        "  else:\n",
        "    cont += 1\n",
        "    if imprime:\n",
        "      print(f\"Carro {carro_id} não abastecido {env.now:.2f}s\")\n",
        "\n",
        "\n",
        "\n",
        "\n",
        "# Processo de chegada dos produtos\n",
        "def chegada_carros(env):\n",
        "    carro_id = 0\n",
        "    global Estoque, imprime\n",
        "    while True:\n",
        "        carro_id += 1\n",
        "        #Sorteia o peso do produto entre Normal(100, 5)\n",
        "        demanda = np.random.normal(25, 3)\n",
        "        if imprime:\n",
        "          print(f\"Demanda do carro {carro_id}: {demanda}\")\n",
        "        env.process(abastece(carro_id, demanda))\n",
        "        #Gera nova chegada\n",
        "        yield env.timeout(np.random.exponential(tempo_chegada))\n",
        "\n",
        "\n",
        "# Inicialização da simulação\n",
        "env = simpy.Environment()\n",
        "#frentista = simpy.Resource(env, capacity=1)\n",
        "env.process(chegada_carros(env))\n",
        "env.process(chegada_estoque(env))\n",
        "\n",
        "env.run(until = tempo_total)\n",
        "print(\"Carros não abastecidos:\", cont)"
      ],
      "metadata": {
        "id": "G4sHhOducW80"
      },
      "execution_count": null,
      "outputs": []
    },
    {
      "cell_type": "markdown",
      "source": [
        "Considere um consultório de pronto atendimento de um hospital em que 60$\\%$ do pacientes são de prioridade baixa (pulseira verde), 25$\\%$ de prioridade intermediária (pulseira amarela) e o restante de prioridade alta (pulseira vermelha). Existem 2 médicos que realizam os atendimentos e que sempre verificam inicialmente a ordem de prioridade dos pacientes na fila. Os pacientes chegam entre si em intervalos exponencialmente distribuídos, com média de 5 minutos e o atendimento é também exponencialmente distribuído, com média de 9 minutos por paciente."
      ],
      "metadata": {
        "id": "izOoHs_iqOhg"
      }
    },
    {
      "cell_type": "code",
      "source": [
        "import simpy\n",
        "import numpy as np\n",
        "\n",
        "tempo_total = 3*60\n",
        "tempo_chegada = 5\n",
        "imprime = 1\n",
        "fila = []\n",
        "cap = 2\n",
        "\n",
        "\n",
        "def atendimento(paciente_id, prioridade):\n",
        "  global imprime, cap\n",
        "  if medicos.count == cap:\n",
        "      fila.append([paciente_id, prioridade])\n",
        "      if imprime:\n",
        "        print('Fila:', fila)\n",
        "  with medicos.request(priority=prioridade) as req:\n",
        "    yield req\n",
        "    if imprime:\n",
        "      print(f'Médico começa atendimento do paciente {paciente_id}, prioridade {prioridade} em {env.now}')\n",
        "      if len(fila) > 0:\n",
        "        fila.remove([paciente_id, prioridade])\n",
        "        if imprime:\n",
        "          print('Fila:', fila)\n",
        "    yield env.timeout(np.random.exponential(9))\n",
        "    if imprime:\n",
        "      print(f'Termina o atendimento do paciente {paciente_id} - {env.now}')\n",
        "\n",
        "\n",
        "# Processo de chegada dos produtos\n",
        "def chegada_paciente(env):\n",
        "    paciente_id = 0\n",
        "    global imprime\n",
        "    while True:\n",
        "        paciente_id += 1\n",
        "        #Sorteia o nível de prioridade entre 0 e 1\n",
        "        r = np.random.uniform(0, 1)\n",
        "        if r <= 0.6:\n",
        "          prioridade = 2\n",
        "        elif r <= 0.85:\n",
        "          prioridade = 1\n",
        "        else:\n",
        "          prioridade = 0\n",
        "        if imprime:\n",
        "          print(f\"Paciente: {paciente_id}, Prioridade: {prioridade} - {env.now}\")\n",
        "        env.process(atendimento(paciente_id, prioridade))\n",
        "        #Gera nova chegada\n",
        "        yield env.timeout(np.random.exponential(tempo_chegada))\n",
        "\n",
        "\n",
        "# Inicialização da simulação\n",
        "env = simpy.Environment()\n",
        "medicos = simpy.PriorityResource(env, capacity=cap)\n",
        "env.process(chegada_paciente(env))\n",
        "\n",
        "env.run(until = tempo_total)\n"
      ],
      "metadata": {
        "id": "8Uib_Rm0qPXA"
      },
      "execution_count": null,
      "outputs": []
    }
  ]
}